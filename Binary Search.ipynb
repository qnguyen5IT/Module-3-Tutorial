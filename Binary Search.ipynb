{
 "cells": [
  {
   "cell_type": "code",
   "execution_count": null,
   "id": "4d3b8268-7c3c-4361-98a9-4d08b5269070",
   "metadata": {},
   "outputs": [],
   "source": [
    "def binary_search(arr, k): \n",
    "    low = 0\n",
    "    high = len(arr) - 1\n",
    "\n",
    "    while low <= high: \n",
    "        mid = (low + high) // 2\n",
    "        if arr[mid] == k: \n",
    "            return mid\n",
    "        elif arr[mid] < k: \n",
    "            low = mid + 1\n",
    "        else: \n",
    "            high = mid - 1\n",
    "    return -1"
   ]
  }
 ],
 "metadata": {
  "kernelspec": {
   "display_name": "Python 3 (ipykernel)",
   "language": "python",
   "name": "python3"
  },
  "language_info": {
   "codemirror_mode": {
    "name": "ipython",
    "version": 3
   },
   "file_extension": ".py",
   "mimetype": "text/x-python",
   "name": "python",
   "nbconvert_exporter": "python",
   "pygments_lexer": "ipython3",
   "version": "3.12.4"
  }
 },
 "nbformat": 4,
 "nbformat_minor": 5
}
