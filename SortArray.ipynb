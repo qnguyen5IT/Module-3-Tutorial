{
 "cells": [
  {
   "cell_type": "code",
   "execution_count": null,
   "id": "af190791-fcdc-432f-bf8d-b34aa9792b2d",
   "metadata": {},
   "outputs": [],
   "source": [
    "class SortArray:\n",
    "    def __init__(self, arr):\n",
    "        self.arr = arr\n",
    "\n",
    "    def sort_012(self):\n",
    "        low = 0\n",
    "        mid = 0\n",
    "        high = len(self.arr) - 1\n",
    "        \n",
    "        while mid <= high:\n",
    "            if self.arr[mid] == 0:\n",
    "                self.arr[low], self.arr[mid] = self.arr[mid], self.arr[low]\n",
    "                low += 1\n",
    "                mid += 1\n",
    "            elif self.arr[mid] == 1:\n",
    "                mid += 1\n",
    "            else:\n",
    "                self.arr[mid], self.arr[high] = self.arr[high], self.arr[mid]\n",
    "                high -= 1\n",
    "    \n",
    "    def get_sorted_array(self):\n",
    "        return self.arr"
   ]
  }
 ],
 "metadata": {
  "kernelspec": {
   "display_name": "Python 3 (ipykernel)",
   "language": "python",
   "name": "python3"
  },
  "language_info": {
   "codemirror_mode": {
    "name": "ipython",
    "version": 3
   },
   "file_extension": ".py",
   "mimetype": "text/x-python",
   "name": "python",
   "nbconvert_exporter": "python",
   "pygments_lexer": "ipython3",
   "version": "3.12.4"
  }
 },
 "nbformat": 4,
 "nbformat_minor": 5
}
